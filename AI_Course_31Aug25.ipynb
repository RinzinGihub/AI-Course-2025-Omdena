{
  "nbformat": 4,
  "nbformat_minor": 0,
  "metadata": {
    "colab": {
      "provenance": []
    },
    "kernelspec": {
      "name": "python3",
      "display_name": "Python 3"
    },
    "language_info": {
      "name": "python"
    }
  },
  "cells": [
    {
      "cell_type": "code",
      "execution_count": null,
      "metadata": {
        "colab": {
          "base_uri": "https://localhost:8080/"
        },
        "id": "ccYIPQLe62sb",
        "outputId": "b6cf1a55-c6d1-44d1-868b-ccc1b1f159c8"
      },
      "outputs": [
        {
          "output_type": "stream",
          "name": "stdout",
          "text": [
            "Hello Rinzin\n"
          ]
        }
      ],
      "source": [
        "print(\"Hello Rinzin\")"
      ]
    },
    {
      "cell_type": "code",
      "source": [
        "# Create a list of string - names\n",
        "names = [\"Alice\", \"Janet\", \"Bob\", \"Charlie\"]\n",
        "names"
      ],
      "metadata": {
        "colab": {
          "base_uri": "https://localhost:8080/"
        },
        "id": "wL5d7j89ed7w",
        "outputId": "6f110553-49a3-4e45-f3b9-679e6713902e"
      },
      "execution_count": null,
      "outputs": [
        {
          "output_type": "execute_result",
          "data": {
            "text/plain": [
              "['Alice', 'Janet', 'Bob', 'Charlie']"
            ]
          },
          "metadata": {},
          "execution_count": 37
        }
      ]
    },
    {
      "cell_type": "code",
      "source": [
        "# adding element into the list\n",
        "# Add David to the list\n",
        "names.append(\"David\")\n",
        "names"
      ],
      "metadata": {
        "colab": {
          "base_uri": "https://localhost:8080/"
        },
        "id": "qe80qthC8KzA",
        "outputId": "9bd08702-e40a-4803-fda8-d9e7dffebe94"
      },
      "execution_count": null,
      "outputs": [
        {
          "output_type": "execute_result",
          "data": {
            "text/plain": [
              "['Alice', 'Janet', 'Bob', 'Charlie', 'David']"
            ]
          },
          "metadata": {},
          "execution_count": 38
        }
      ]
    },
    {
      "cell_type": "code",
      "source": [
        "# removing element into the list\n",
        "# remove David to the list\n",
        "names.remove(\"David\")\n",
        "names"
      ],
      "metadata": {
        "colab": {
          "base_uri": "https://localhost:8080/"
        },
        "id": "qYiLAoX88SdO",
        "outputId": "de508bfb-288d-48ab-f295-846be5c6c87e"
      },
      "execution_count": null,
      "outputs": [
        {
          "output_type": "execute_result",
          "data": {
            "text/plain": [
              "['Alice', 'Janet', 'Bob', 'Charlie']"
            ]
          },
          "metadata": {},
          "execution_count": 39
        }
      ]
    },
    {
      "cell_type": "code",
      "source": [],
      "metadata": {
        "id": "Jhby2DW68SbJ"
      },
      "execution_count": null,
      "outputs": []
    },
    {
      "cell_type": "markdown",
      "source": [
        "# Heterogeneous list\n",
        "mixed = [1, \"Desmond\", True, 20.6]"
      ],
      "metadata": {
        "id": "jWnBalldfF90"
      }
    },
    {
      "cell_type": "code",
      "source": [
        "# Heterogeneous list\n",
        "# Create a list of string - names\n",
        "mixed = [1, \"Desmond\", True, 20.6]\n",
        "mixed\n"
      ],
      "metadata": {
        "colab": {
          "base_uri": "https://localhost:8080/"
        },
        "id": "gCLojvlZftxO",
        "outputId": "e7c15083-153f-461b-8b88-e890336393fb"
      },
      "execution_count": null,
      "outputs": [
        {
          "output_type": "execute_result",
          "data": {
            "text/plain": [
              "[1, 'Desmond', True, 20.6]"
            ]
          },
          "metadata": {},
          "execution_count": 40
        }
      ]
    },
    {
      "cell_type": "code",
      "source": [
        "print(\"welcome to coding in python\")"
      ],
      "metadata": {
        "colab": {
          "base_uri": "https://localhost:8080/"
        },
        "id": "DOfjK8zG7HRV",
        "outputId": "c362da83-6539-4de1-87b5-f6ec2d667bca"
      },
      "execution_count": null,
      "outputs": [
        {
          "output_type": "stream",
          "name": "stdout",
          "text": [
            "welcome to coding in python\n"
          ]
        }
      ]
    },
    {
      "cell_type": "code",
      "source": [
        "# Create a list of fruits = fruits\n",
        "fruits = [\"Apple\", \"banana\", \"Cherry\"]\n",
        "fruits\n"
      ],
      "metadata": {
        "colab": {
          "base_uri": "https://localhost:8080/"
        },
        "id": "43Yb3B6Ygj-f",
        "outputId": "4c12ab10-f446-44e1-a087-f1946af478de"
      },
      "execution_count": null,
      "outputs": [
        {
          "output_type": "execute_result",
          "data": {
            "text/plain": [
              "['Apple', 'banana', 'Cherry']"
            ]
          },
          "metadata": {},
          "execution_count": 42
        }
      ]
    },
    {
      "cell_type": "code",
      "source": [
        "# add Mango to the list\n",
        "fruits.append(\"Mango\")\n",
        "fruits"
      ],
      "metadata": {
        "colab": {
          "base_uri": "https://localhost:8080/"
        },
        "id": "S4ypgqs4f2yX",
        "outputId": "5285c45f-948f-4bc1-c9c1-d1248d7a8f04"
      },
      "execution_count": null,
      "outputs": [
        {
          "output_type": "execute_result",
          "data": {
            "text/plain": [
              "['Apple', 'banana', 'Cherry', 'Mango']"
            ]
          },
          "metadata": {},
          "execution_count": 43
        }
      ]
    },
    {
      "cell_type": "code",
      "source": [
        "# remove banana from the list\n",
        "fruits.remove('banana')\n",
        "fruits"
      ],
      "metadata": {
        "colab": {
          "base_uri": "https://localhost:8080/"
        },
        "id": "yPwmjk80ggMe",
        "outputId": "4dc43101-db92-420a-a344-a124c3dcbab1"
      },
      "execution_count": null,
      "outputs": [
        {
          "output_type": "execute_result",
          "data": {
            "text/plain": [
              "['Apple', 'Cherry', 'Mango']"
            ]
          },
          "metadata": {},
          "execution_count": 44
        }
      ]
    },
    {
      "cell_type": "markdown",
      "source": [
        "# add Orange to the list\n",
        "fruits.append('Orange')\n",
        "fruits"
      ],
      "metadata": {
        "id": "DhlKybWP_2TJ"
      }
    },
    {
      "cell_type": "code",
      "source": [
        "# add orange to the list\n",
        "fruits.append(\"Orange\")\n",
        "fruits.remove\n",
        "fruits"
      ],
      "metadata": {
        "colab": {
          "base_uri": "https://localhost:8080/"
        },
        "id": "Vjsmv4w6AGCE",
        "outputId": "14ea18f0-4e88-4e47-8f60-be1734ee6fa8"
      },
      "execution_count": null,
      "outputs": [
        {
          "output_type": "execute_result",
          "data": {
            "text/plain": [
              "['Apple', 'Cherry', 'Mango', 'Orange']"
            ]
          },
          "metadata": {},
          "execution_count": 45
        }
      ]
    }
  ]
}